{
 "cells": [
  {
   "cell_type": "markdown",
   "id": "2a0e6722",
   "metadata": {},
   "source": [
    "## 합성곱 신경망\n",
    "\n",
    "### 패션 MNIST CNN\n",
    "\n",
    "- "
   ]
  },
  {
   "cell_type": "code",
   "execution_count": 1,
   "id": "5bc632a0",
   "metadata": {},
   "outputs": [
    {
     "name": "stdout",
     "output_type": "stream",
     "text": [
      "WARNING:tensorflow:From c:\\Source\\iot-dataanalysis-2025\\mlvenv\\Lib\\site-packages\\keras\\src\\losses.py:2976: The name tf.losses.sparse_softmax_cross_entropy is deprecated. Please use tf.compat.v1.losses.sparse_softmax_cross_entropy instead.\n",
      "\n"
     ]
    }
   ],
   "source": [
    "from tensorflow import keras\n",
    "from sklearn.model_selection import train_test_split"
   ]
  },
  {
   "cell_type": "code",
   "execution_count": 2,
   "id": "ef3dda82",
   "metadata": {},
   "outputs": [],
   "source": [
    "(train_input, train_target), (test_input, test_target) = keras.datasets.fashion_mnist.load_data()"
   ]
  },
  {
   "cell_type": "code",
   "execution_count": 3,
   "id": "a78a0191",
   "metadata": {},
   "outputs": [
    {
     "name": "stdout",
     "output_type": "stream",
     "text": [
      "(60000, 28, 28) (10000, 28, 28)\n"
     ]
    }
   ],
   "source": [
    "print(train_input.shape, test_input.shape)"
   ]
  },
  {
   "cell_type": "code",
   "execution_count": 4,
   "id": "aa038856",
   "metadata": {},
   "outputs": [],
   "source": [
    "# 255.0 - 정규화처리\n",
    "# reshape(-1, 28, 28, 1) - 4차원 배열로 변경\n",
    "train_scaled = train_input.reshape(-1, 28, 28, 1) / 255.0"
   ]
  },
  {
   "cell_type": "code",
   "execution_count": 5,
   "id": "d61a9371",
   "metadata": {},
   "outputs": [
    {
     "data": {
      "text/plain": [
       "(60000, 28, 28, 1)"
      ]
     },
     "execution_count": 5,
     "metadata": {},
     "output_type": "execute_result"
    }
   ],
   "source": [
    "train_scaled.shape"
   ]
  },
  {
   "cell_type": "code",
   "execution_count": 6,
   "id": "4f5d5bbf",
   "metadata": {},
   "outputs": [],
   "source": [
    "test_scaled = test_input.reshape(-1, 28, 28, 1) / 255.0"
   ]
  },
  {
   "cell_type": "code",
   "execution_count": 7,
   "id": "c6952844",
   "metadata": {},
   "outputs": [
    {
     "data": {
      "text/plain": [
       "(10000, 28, 28, 1)"
      ]
     },
     "execution_count": 7,
     "metadata": {},
     "output_type": "execute_result"
    }
   ],
   "source": [
    "test_scaled.shape"
   ]
  },
  {
   "cell_type": "markdown",
   "id": "5f7fc622",
   "metadata": {},
   "source": [
    "- train_scaled에서 1차원을 더 추가한 이유\n",
    "- channel 값 : 흑백이기 떄문에 1채널만 있으면 됨\n",
    "    - 60000(데이터수), 28(이미지넓이), 28(이미지높이), 1(입력채널)"
   ]
  },
  {
   "cell_type": "code",
   "execution_count": 8,
   "id": "21b4d9e7",
   "metadata": {},
   "outputs": [],
   "source": [
    "# 훈련세트, 검증세트 분리\n",
    "train_scaled, val_scaled, train_target, val_target = train_test_split(\n",
    "    train_scaled, train_target, test_size=0.2, random_state=42\n",
    ")"
   ]
  },
  {
   "cell_type": "code",
   "execution_count": 9,
   "id": "0d18171b",
   "metadata": {},
   "outputs": [
    {
     "name": "stdout",
     "output_type": "stream",
     "text": [
      "(48000, 28, 28, 1) (12000, 28, 28, 1)\n",
      "(48000,) (12000,)\n"
     ]
    }
   ],
   "source": [
    "print(train_scaled.shape, val_scaled.shape)\n",
    "print(train_target.shape, val_target.shape)"
   ]
  },
  {
   "cell_type": "markdown",
   "id": "389bc011",
   "metadata": {},
   "source": [
    "### 합성곱 신경망 만들기"
   ]
  },
  {
   "cell_type": "code",
   "execution_count": 10,
   "id": "179ef137",
   "metadata": {},
   "outputs": [
    {
     "name": "stdout",
     "output_type": "stream",
     "text": [
      "WARNING:tensorflow:From c:\\Source\\iot-dataanalysis-2025\\mlvenv\\Lib\\site-packages\\keras\\src\\backend.py:873: The name tf.get_default_graph is deprecated. Please use tf.compat.v1.get_default_graph instead.\n",
      "\n"
     ]
    }
   ],
   "source": [
    "model = keras.Sequential(name='CNN1')\n",
    "\n",
    "# 32 -> 합성곱 층의 필터 갯수\n",
    "# kernel_size, 3 -> (3x3)\n",
    "# padding, same -> 패딩 추가해서 특성맵사이즈를 원본과 동일하게\n",
    "model.add(keras.layers.Conv2D(32, kernel_size=3, activation='relu', padding='same', input_shape=(28, 28, 1)))"
   ]
  },
  {
   "cell_type": "code",
   "execution_count": 11,
   "id": "85b175a4",
   "metadata": {},
   "outputs": [
    {
     "name": "stdout",
     "output_type": "stream",
     "text": [
      "Model: \"CNN1\"\n",
      "_________________________________________________________________\n",
      " Layer (type)                Output Shape              Param #   \n",
      "=================================================================\n",
      " conv2d (Conv2D)             (None, 28, 28, 32)        320       \n",
      "                                                                 \n",
      "=================================================================\n",
      "Total params: 320 (1.25 KB)\n",
      "Trainable params: 320 (1.25 KB)\n",
      "Non-trainable params: 0 (0.00 Byte)\n",
      "_________________________________________________________________\n"
     ]
    }
   ],
   "source": [
    "model.summary()"
   ]
  },
  {
   "cell_type": "code",
   "execution_count": 12,
   "id": "4e5901b8",
   "metadata": {},
   "outputs": [
    {
     "name": "stdout",
     "output_type": "stream",
     "text": [
      "WARNING:tensorflow:From c:\\Source\\iot-dataanalysis-2025\\mlvenv\\Lib\\site-packages\\keras\\src\\layers\\pooling\\max_pooling2d.py:161: The name tf.nn.max_pool is deprecated. Please use tf.nn.max_pool2d instead.\n",
      "\n"
     ]
    }
   ],
   "source": [
    "model.add(keras.layers.MaxPooling2D(2)) # 특성맵이 반으로 줄어듬. 14x14 사이즈의 특성맵"
   ]
  },
  {
   "cell_type": "code",
   "execution_count": 13,
   "id": "f88fea51",
   "metadata": {},
   "outputs": [
    {
     "name": "stdout",
     "output_type": "stream",
     "text": [
      "Model: \"CNN1\"\n",
      "_________________________________________________________________\n",
      " Layer (type)                Output Shape              Param #   \n",
      "=================================================================\n",
      " conv2d (Conv2D)             (None, 28, 28, 32)        320       \n",
      "                                                                 \n",
      " max_pooling2d (MaxPooling2  (None, 14, 14, 32)        0         \n",
      " D)                                                              \n",
      "                                                                 \n",
      "=================================================================\n",
      "Total params: 320 (1.25 KB)\n",
      "Trainable params: 320 (1.25 KB)\n",
      "Non-trainable params: 0 (0.00 Byte)\n",
      "_________________________________________________________________\n"
     ]
    }
   ],
   "source": [
    "model.summary()"
   ]
  },
  {
   "cell_type": "code",
   "execution_count": 14,
   "id": "8c2ecc3c",
   "metadata": {},
   "outputs": [],
   "source": [
    "# 두번째 함성곱/풀링층 추가\n",
    "model.add(keras.layers.Conv2D(64, kernel_size=3, activation='relu', padding='same'))\n",
    "model.add(keras.layers.MaxPooling2D(2)) # 사이즈 반으로, 7x7x64 특성맵 -> 3136 출력"
   ]
  },
  {
   "cell_type": "code",
   "execution_count": 15,
   "id": "2e89f91c",
   "metadata": {},
   "outputs": [],
   "source": [
    "# 심층신경망을 붙임\n",
    "model.add(keras.layers.Flatten())\n",
    "model.add(keras.layers.Dense(100, activation='relu'))\n",
    "model.add(keras.layers.Dropout(0.4))\n",
    "model.add(keras.layers.Dense(10, activation='softmax'))"
   ]
  },
  {
   "cell_type": "markdown",
   "id": "9e84616a",
   "metadata": {},
   "source": [
    "#### 위에 까지 학습을 위해서 나눠놓은 것\n",
    "- 아래에 다시 하나의 셀에 합침"
   ]
  },
  {
   "cell_type": "code",
   "execution_count": 16,
   "id": "23265fdb",
   "metadata": {},
   "outputs": [],
   "source": [
    "model = keras.Sequential(name='CNN1')\n",
    "\n",
    "# 32 -> 합성곱 층의 필터 갯수\n",
    "# kernel_size, 3 -> (3x3)\n",
    "# padding, same -> 패딩 추가해서 특성맵사이즈를 원본과 동일하게\n",
    "model.add(keras.layers.Conv2D(32, kernel_size=3, activation='relu', padding='same', input_shape=(28, 28, 1), name='First_CNN'))\n",
    "model.add(keras.layers.MaxPooling2D(2, name='First_Pooling'))   # 특성맵이 반으로 줄어듬. 14x14 사이즈의 특성맵\n",
    "\n",
    "# 두번째 합성곱/풀링층 추가\n",
    "model.add(keras.layers.Conv2D(64, kernel_size=3, activation='relu', padding='same', name='Second_CNN'))\n",
    "model.add(keras.layers.MaxPooling2D(2, name='Second_Pooling'))  # 사이즈 반으로, 7x7x64 특성맵 -> 3136 출력\n",
    "\n",
    "# 심층신경망을 붙임\n",
    "model.add(keras.layers.Flatten())\n",
    "model.add(keras.layers.Dense(100, activation='relu', name='Hidden'))\n",
    "model.add(keras.layers.Dropout(0.4, name='Dropout'))  \n",
    "model.add(keras.layers.Dense(10, activation='softmax', name='Output'))"
   ]
  },
  {
   "cell_type": "code",
   "execution_count": 17,
   "id": "5a5f32ae",
   "metadata": {},
   "outputs": [
    {
     "name": "stdout",
     "output_type": "stream",
     "text": [
      "Model: \"CNN1\"\n",
      "_________________________________________________________________\n",
      " Layer (type)                Output Shape              Param #   \n",
      "=================================================================\n",
      " First_CNN (Conv2D)          (None, 28, 28, 32)        320       \n",
      "                                                                 \n",
      " First_Pooling (MaxPooling2  (None, 14, 14, 32)        0         \n",
      " D)                                                              \n",
      "                                                                 \n",
      " Second_CNN (Conv2D)         (None, 14, 14, 64)        18496     \n",
      "                                                                 \n",
      " Second_Pooling (MaxPooling  (None, 7, 7, 64)          0         \n",
      " 2D)                                                             \n",
      "                                                                 \n",
      " flatten_1 (Flatten)         (None, 3136)              0         \n",
      "                                                                 \n",
      " Hidden (Dense)              (None, 100)               313700    \n",
      "                                                                 \n",
      " Dropout (Dropout)           (None, 100)               0         \n",
      "                                                                 \n",
      " Output (Dense)              (None, 10)                1010      \n",
      "                                                                 \n",
      "=================================================================\n",
      "Total params: 333526 (1.27 MB)\n",
      "Trainable params: 333526 (1.27 MB)\n",
      "Non-trainable params: 0 (0.00 Byte)\n",
      "_________________________________________________________________\n"
     ]
    }
   ],
   "source": [
    "model.summary()"
   ]
  },
  {
   "cell_type": "code",
   "execution_count": null,
   "id": "eea40b5d",
   "metadata": {},
   "outputs": [],
   "source": [
    "# 모델 시각화 - 나중에\n",
    "keras.utils.plot_model(model)"
   ]
  },
  {
   "cell_type": "markdown",
   "id": "5ffc9bf8",
   "metadata": {},
   "source": [
    "- graphviz 설치\n",
    "- pydot 파이썬 모듈설치\n",
    "- VS Code 재시작"
   ]
  },
  {
   "cell_type": "code",
   "execution_count": null,
   "id": "27e4ab44",
   "metadata": {},
   "outputs": [
    {
     "name": "stdout",
     "output_type": "stream",
     "text": [
      "Collecting pydot\n",
      "  Downloading pydot-3.0.4-py3-none-any.whl.metadata (10 kB)\n",
      "Requirement already satisfied: pyparsing>=3.0.9 in c:\\source\\iot-dataanalysis-2025\\mlvenv\\lib\\site-packages (from pydot) (3.2.3)\n",
      "Downloading pydot-3.0.4-py3-none-any.whl (35 kB)\n",
      "Installing collected packages: pydot\n",
      "Successfully installed pydot-3.0.4\n"
     ]
    },
    {
     "name": "stderr",
     "output_type": "stream",
     "text": [
      "\n",
      "[notice] A new release of pip is available: 24.0 -> 25.0.1\n",
      "[notice] To update, run: python.exe -m pip install --upgrade pip\n"
     ]
    }
   ],
   "source": [
    "!pip install pydot"
   ]
  },
  {
   "cell_type": "markdown",
   "id": "855724b1",
   "metadata": {},
   "source": [
    "### 모델 컴파일, 훈련"
   ]
  },
  {
   "cell_type": "code",
   "execution_count": 19,
   "id": "d6d1e747",
   "metadata": {},
   "outputs": [
    {
     "name": "stdout",
     "output_type": "stream",
     "text": [
      "WARNING:tensorflow:From c:\\Source\\iot-dataanalysis-2025\\mlvenv\\Lib\\site-packages\\keras\\src\\optimizers\\__init__.py:309: The name tf.train.Optimizer is deprecated. Please use tf.compat.v1.train.Optimizer instead.\n",
      "\n"
     ]
    }
   ],
   "source": [
    "# 모델 컴파일\n",
    "model.compile(optimizer='adam', loss='sparse_categorical_crossentropy', metrics='accuracy')\n",
    "\n",
    "checkpoint_cb = keras.callbacks.ModelCheckpoint('best-cnn-model.h5', save_best_only=True)\n",
    "early_stopping_cb = keras.callbacks.EarlyStopping(patience=2, restore_best_weights=True)"
   ]
  },
  {
   "cell_type": "code",
   "execution_count": 20,
   "id": "60244e6e",
   "metadata": {},
   "outputs": [
    {
     "name": "stdout",
     "output_type": "stream",
     "text": [
      "Epoch 1/50\n",
      "WARNING:tensorflow:From c:\\Source\\iot-dataanalysis-2025\\mlvenv\\Lib\\site-packages\\keras\\src\\utils\\tf_utils.py:492: The name tf.ragged.RaggedTensorValue is deprecated. Please use tf.compat.v1.ragged.RaggedTensorValue instead.\n",
      "\n",
      "WARNING:tensorflow:From c:\\Source\\iot-dataanalysis-2025\\mlvenv\\Lib\\site-packages\\keras\\src\\engine\\base_layer_utils.py:384: The name tf.executing_eagerly_outside_functions is deprecated. Please use tf.compat.v1.executing_eagerly_outside_functions instead.\n",
      "\n",
      "1500/1500 [==============================] - 14s 8ms/step - loss: 0.5296 - accuracy: 0.8118 - val_loss: 0.3301 - val_accuracy: 0.8766\n",
      "Epoch 2/50\n",
      "  16/1500 [..............................] - ETA: 11s - loss: 0.3600 - accuracy: 0.8750"
     ]
    },
    {
     "name": "stderr",
     "output_type": "stream",
     "text": [
      "c:\\Source\\iot-dataanalysis-2025\\mlvenv\\Lib\\site-packages\\keras\\src\\engine\\training.py:3103: UserWarning: You are saving your model as an HDF5 file via `model.save()`. This file format is considered legacy. We recommend using instead the native Keras format, e.g. `model.save('my_model.keras')`.\n",
      "  saving_api.save_model(\n"
     ]
    },
    {
     "name": "stdout",
     "output_type": "stream",
     "text": [
      "1500/1500 [==============================] - 13s 8ms/step - loss: 0.3525 - accuracy: 0.8748 - val_loss: 0.3083 - val_accuracy: 0.8859\n",
      "Epoch 3/50\n",
      "1500/1500 [==============================] - 13s 9ms/step - loss: 0.3073 - accuracy: 0.8895 - val_loss: 0.2661 - val_accuracy: 0.9011\n",
      "Epoch 4/50\n",
      "1500/1500 [==============================] - 14s 9ms/step - loss: 0.2711 - accuracy: 0.9004 - val_loss: 0.2441 - val_accuracy: 0.9108\n",
      "Epoch 5/50\n",
      "1500/1500 [==============================] - 15s 10ms/step - loss: 0.2460 - accuracy: 0.9100 - val_loss: 0.2377 - val_accuracy: 0.9137\n",
      "Epoch 6/50\n",
      "1500/1500 [==============================] - 13s 9ms/step - loss: 0.2264 - accuracy: 0.9175 - val_loss: 0.2237 - val_accuracy: 0.9172\n",
      "Epoch 7/50\n",
      "1500/1500 [==============================] - 14s 9ms/step - loss: 0.2068 - accuracy: 0.9233 - val_loss: 0.2355 - val_accuracy: 0.9153\n",
      "Epoch 8/50\n",
      "1500/1500 [==============================] - 14s 9ms/step - loss: 0.1920 - accuracy: 0.9283 - val_loss: 0.2140 - val_accuracy: 0.9228\n",
      "Epoch 9/50\n",
      "1500/1500 [==============================] - 15s 10ms/step - loss: 0.1777 - accuracy: 0.9338 - val_loss: 0.2251 - val_accuracy: 0.9211\n",
      "Epoch 10/50\n",
      "1500/1500 [==============================] - 15s 10ms/step - loss: 0.1654 - accuracy: 0.9380 - val_loss: 0.2319 - val_accuracy: 0.9217\n"
     ]
    }
   ],
   "source": [
    "# 모델 훈련\n",
    "history = model.fit(train_scaled, train_target, epochs=50, validation_data=(val_scaled, val_target), callbacks=[checkpoint_cb, early_stopping_cb])"
   ]
  },
  {
   "cell_type": "code",
   "execution_count": 21,
   "id": "8406d433",
   "metadata": {},
   "outputs": [
    {
     "data": {
      "image/png": "[encoded data removed]",
      "text/plain": [
       "<Figure size 640x480 with 1 Axes>"
      ]
     },
     "metadata": {},
     "output_type": "display_data"
    }
   ],
   "source": [
    "# 정확도 확인\n",
    "import matplotlib.pyplot as plt\n",
    "\n",
    "plt.plot(history.history['loss'])\n",
    "plt.plot(history.history['val_loss'])\n",
    "plt.xlabel('epoch')\n",
    "plt.ylabel('loss')\n",
    "plt.legend(['train', 'val'])\n",
    "plt.show()"
   ]
  },
  {
   "cell_type": "code",
   "execution_count": 22,
   "id": "cdff8993",
   "metadata": {},
   "outputs": [
    {
     "name": "stdout",
     "output_type": "stream",
     "text": [
      "375/375 [==============================] - 1s 2ms/step - loss: 0.2140 - accuracy: 0.9228\n"
     ]
    },
    {
     "data": {
      "text/plain": [
       "[0.21400752663612366, 0.9228333234786987]"
      ]
     },
     "execution_count": 22,
     "metadata": {},
     "output_type": "execute_result"
    }
   ],
   "source": [
    "# 모델 검증정확도\n",
    "model.evaluate(val_scaled, val_target)"
   ]
  },
  {
   "cell_type": "code",
   "execution_count": 23,
   "id": "8c7e54ae",
   "metadata": {},
   "outputs": [
    {
     "data": {
      "image/png": "[encoded data removed]",
      "text/plain": [
       "<Figure size 640x480 with 1 Axes>"
      ]
     },
     "metadata": {},
     "output_type": "display_data"
    }
   ],
   "source": [
    "# val_scaled[0]\n",
    "plt.imshow(val_scaled[0].reshape(28, 28), cmap='gray_r')\n",
    "plt.axis('off')\n",
    "plt.show()"
   ]
  },
  {
   "cell_type": "code",
   "execution_count": 27,
   "id": "7b0e9e7f",
   "metadata": {},
   "outputs": [
    {
     "name": "stdout",
     "output_type": "stream",
     "text": [
      "1/1 [==============================] - 0s 19ms/step\n"
     ]
    },
    {
     "data": {
      "text/plain": [
       "array([[0., 0., 0., 0., 0., 0., 0., 0., 1., 0.]], dtype=float32)"
      ]
     },
     "execution_count": 27,
     "metadata": {},
     "output_type": "execute_result"
    }
   ],
   "source": [
    "model.predict(val_scaled[0:1]).round(3)"
   ]
  },
  {
   "cell_type": "markdown",
   "id": "2a5f3d55",
   "metadata": {},
   "source": [
    "#### 예측 시각화"
   ]
  },
  {
   "cell_type": "code",
   "execution_count": 31,
   "id": "687a777d",
   "metadata": {},
   "outputs": [],
   "source": [
    "import matplotlib.pyplot as plt\n",
    "import seaborn as sns\n",
    "import numpy as np"
   ]
  },
  {
   "cell_type": "code",
   "execution_count": 32,
   "id": "29176a0e",
   "metadata": {},
   "outputs": [],
   "source": [
    "# 한글로 Matplotlib 사용시 항상 필요\n",
    "from matplotlib import rcParams, font_manager, rc\n",
    "\n",
    "font_path = 'C:/Windows/Fonts/malgun.ttf'\n",
    "font = font_manager.FontProperties(fname=font_path).get_name()\n",
    "rc('font', family=font)\n",
    "rcParams['axes.unicode_minus'] = False\n",
    "\n",
    "sns.set_style('darkgrid')\n",
    "sns.set_theme(font='Malgun Gothic', rc={'axes.unicode_minus': False})"
   ]
  },
  {
   "cell_type": "code",
   "execution_count": 33,
   "id": "5aabb6d9",
   "metadata": {},
   "outputs": [],
   "source": [
    "class_names = ['티셔츠', '바지', '스웨터', '드레스', '코트', '샌달', '셔츠', '스니커즈', '가방', '앵클부츠']"
   ]
  },
  {
   "cell_type": "code",
   "execution_count": 34,
   "id": "c861c58e",
   "metadata": {},
   "outputs": [
    {
     "name": "stdout",
     "output_type": "stream",
     "text": [
      "313/313 [==============================] - 1s 2ms/step\n"
     ]
    }
   ],
   "source": [
    "pred_result = model.predict(test_scaled)"
   ]
  },
  {
   "cell_type": "code",
   "execution_count": 35,
   "id": "4370b047",
   "metadata": {},
   "outputs": [],
   "source": [
    "# 테스트이미지와 예측결과 시각화\n",
    "def show_image(index):\n",
    "    plt.figure(figsize=(2,2))\n",
    "    plt.imshow(test_input[index].reshape(28, 28), cmap='gray_r')\n",
    "    true_label = class_names[test_target[index]]\n",
    "    pred_label = class_names[np.argmax(pred_result[index])]\n",
    "\n",
    "    #plt.title(f'실제: {true_label}, 예측: {pred_label}')\n",
    "    plt.text(0, -6, f'실제: {true_label}', fontsize=12, color='blue')\n",
    "    plt.text(0, -3, f'예측: {pred_label}', fontsize=12, color='red', fontweight='bold')\n",
    "\n",
    "    plt.axis('off')\n",
    "    plt.show()"
   ]
  },
  {
   "cell_type": "code",
   "execution_count": 38,
   "id": "d8a6ec4a",
   "metadata": {},
   "outputs": [
    {
     "data": {
      "image/png": "[encoded data removed]",
      "text/plain": [
       "<Figure size 200x200 with 1 Axes>"
      ]
     },
     "metadata": {},
     "output_type": "display_data"
    },
    {
     "data": {
      "image/png": "[encoded data removed]",
      "text/plain": [
       "<Figure size 200x200 with 1 Axes>"
      ]
     },
     "metadata": {},
     "output_type": "display_data"
    },
    {
     "data": {
      "image/png": "[encoded data removed]",
      "text/plain": [
       "<Figure size 200x200 with 1 Axes>"
      ]
     },
     "metadata": {},
     "output_type": "display_data"
    },
    {
     "data": {
      "image/png": "[encoded data removed]",
      "text/plain": [
       "<Figure size 200x200 with 1 Axes>"
      ]
     },
     "metadata": {},
     "output_type": "display_data"
    },
    {
     "data": {
      "image/png": "[encoded data removed]",
      "text/plain": [
       "<Figure size 200x200 with 1 Axes>"
      ]
     },
     "metadata": {},
     "output_type": "display_data"
    }
   ],
   "source": [
    "for i in range(40, 45):\n",
    "    show_image(i)"
   ]
  },
  {
   "cell_type": "code",
   "execution_count": 40,
   "id": "190f81c3",
   "metadata": {},
   "outputs": [
    {
     "name": "stdout",
     "output_type": "stream",
     "text": [
      "313/313 [==============================] - 1s 2ms/step - loss: 0.2435 - accuracy: 0.9148\n"
     ]
    },
    {
     "data": {
      "text/plain": [
       "[0.24354232847690582, 0.9147999882698059]"
      ]
     },
     "execution_count": 40,
     "metadata": {},
     "output_type": "execute_result"
    }
   ],
   "source": [
    "# 테스트세트로 검증\n",
    "model.evaluate(test_scaled, test_target)"
   ]
  },
  {
   "cell_type": "markdown",
   "id": "42a010dc",
   "metadata": {},
   "source": [
    "#### 저장한 모델 로드"
   ]
  },
  {
   "cell_type": "code",
   "execution_count": 41,
   "id": "60671a89",
   "metadata": {},
   "outputs": [],
   "source": [
    "model2 = keras.models.load_model('./best-cnn-model.h5')"
   ]
  },
  {
   "cell_type": "code",
   "execution_count": 43,
   "id": "56142bc8",
   "metadata": {},
   "outputs": [
    {
     "data": {
      "text/plain": [
       "[<keras.src.layers.convolutional.conv2d.Conv2D at 0x19a9dca0910>,\n",
       " <keras.src.layers.pooling.max_pooling2d.MaxPooling2D at 0x19a976ba510>,\n",
       " <keras.src.layers.convolutional.conv2d.Conv2D at 0x19a9dcc1c50>,\n",
       " <keras.src.layers.pooling.max_pooling2d.MaxPooling2D at 0x19a9b5cbe50>,\n",
       " <keras.src.layers.reshaping.flatten.Flatten at 0x19a9dcc3fd0>,\n",
       " <keras.src.layers.core.dense.Dense at 0x19a9fae7850>,\n",
       " <keras.src.layers.regularization.dropout.Dropout at 0x19a9fb23190>,\n",
       " <keras.src.layers.core.dense.Dense at 0x19a9fae7290>]"
      ]
     },
     "execution_count": 43,
     "metadata": {},
     "output_type": "execute_result"
    }
   ],
   "source": [
    "model2.layers"
   ]
  },
  {
   "cell_type": "code",
   "execution_count": 42,
   "id": "7e7b46a5",
   "metadata": {},
   "outputs": [
    {
     "name": "stdout",
     "output_type": "stream",
     "text": [
      "Model: \"CNN1\"\n",
      "_________________________________________________________________\n",
      " Layer (type)                Output Shape              Param #   \n",
      "=================================================================\n",
      " First_CNN (Conv2D)          (None, 28, 28, 32)        320       \n",
      "                                                                 \n",
      " First_Pooling (MaxPooling2  (None, 14, 14, 32)        0         \n",
      " D)                                                              \n",
      "                                                                 \n",
      " Second_CNN (Conv2D)         (None, 14, 14, 64)        18496     \n",
      "                                                                 \n",
      " Second_Pooling (MaxPooling  (None, 7, 7, 64)          0         \n",
      " 2D)                                                             \n",
      "                                                                 \n",
      " flatten_1 (Flatten)         (None, 3136)              0         \n",
      "                                                                 \n",
      " Hidden (Dense)              (None, 100)               313700    \n",
      "                                                                 \n",
      " Dropout (Dropout)           (None, 100)               0         \n",
      "                                                                 \n",
      " Output (Dense)              (None, 10)                1010      \n",
      "                                                                 \n",
      "=================================================================\n",
      "Total params: 333526 (1.27 MB)\n",
      "Trainable params: 333526 (1.27 MB)\n",
      "Non-trainable params: 0 (0.00 Byte)\n",
      "_________________________________________________________________\n"
     ]
    }
   ],
   "source": [
    "model2.summary()"
   ]
  },
  {
   "cell_type": "code",
   "execution_count": 44,
   "id": "434f8789",
   "metadata": {},
   "outputs": [
    {
     "data": {
      "text/plain": [
       "<KerasTensor: shape=(None, 28, 28, 1) dtype=float32 (created by layer 'First_CNN_input')>"
      ]
     },
     "execution_count": 44,
     "metadata": {},
     "output_type": "execute_result"
    }
   ],
   "source": [
    "# 모델 입력값 확인\n",
    "model2.input"
   ]
  },
  {
   "cell_type": "code",
   "execution_count": 45,
   "id": "9a748ac2",
   "metadata": {},
   "outputs": [
    {
     "data": {
      "text/plain": [
       "<KerasTensor: shape=(None, 28, 28, 32) dtype=float32 (created by layer 'First_CNN')>"
      ]
     },
     "execution_count": 45,
     "metadata": {},
     "output_type": "execute_result"
    }
   ],
   "source": [
    "model2.layers[0].output"
   ]
  },
  {
   "cell_type": "markdown",
   "id": "d1745176",
   "metadata": {},
   "source": [
    "#### 특성맵 시각화"
   ]
  },
  {
   "cell_type": "code",
   "execution_count": 47,
   "id": "4a1a3854",
   "metadata": {},
   "outputs": [
    {
     "data": {
      "image/png": "[encoded data removed]",
      "text/plain": [
       "<Figure size 640x480 with 1 Axes>"
      ]
     },
     "metadata": {},
     "output_type": "display_data"
    }
   ],
   "source": [
    "plt.imshow(train_input[0], cmap='gray_r')\n",
    "plt.axis('off')\n",
    "plt.show()"
   ]
  },
  {
   "cell_type": "code",
   "execution_count": 49,
   "id": "734addff",
   "metadata": {},
   "outputs": [],
   "source": [
    "# 전체 모델에서 첫번째 합성곱레이어만 떼서 모델로 생성\n",
    "model2_first_layer = keras.Model(model2.input, model2.layers[0].output)"
   ]
  },
  {
   "cell_type": "code",
   "execution_count": 50,
   "id": "5e315cfa",
   "metadata": {},
   "outputs": [
    {
     "name": "stdout",
     "output_type": "stream",
     "text": [
      "Model: \"model_1\"\n",
      "_________________________________________________________________\n",
      " Layer (type)                Output Shape              Param #   \n",
      "=================================================================\n",
      " First_CNN_input (InputLaye  [(None, 28, 28, 1)]       0         \n",
      " r)                                                              \n",
      "                                                                 \n",
      " First_CNN (Conv2D)          (None, 28, 28, 32)        320       \n",
      "                                                                 \n",
      "=================================================================\n",
      "Total params: 320 (1.25 KB)\n",
      "Trainable params: 320 (1.25 KB)\n",
      "Non-trainable params: 0 (0.00 Byte)\n",
      "_________________________________________________________________\n"
     ]
    }
   ],
   "source": [
    "model2_first_layer.summary()"
   ]
  },
  {
   "cell_type": "code",
   "execution_count": 51,
   "id": "5c82347a",
   "metadata": {},
   "outputs": [
    {
     "name": "stdout",
     "output_type": "stream",
     "text": [
      "1/1 [==============================] - 0s 41ms/step\n"
     ]
    }
   ],
   "source": [
    "# 훈련세트 1번째 앵클부츠 특성맵 생성\n",
    "inputs = train_input[0:1].reshape(-1, 28, 28, 1) / 255.0\n",
    "feature_maps = model2_first_layer.predict(inputs)"
   ]
  },
  {
   "cell_type": "code",
   "execution_count": 52,
   "id": "71487638",
   "metadata": {},
   "outputs": [
    {
     "data": {
      "text/plain": [
       "(1, 28, 28, 32)"
      ]
     },
     "execution_count": 52,
     "metadata": {},
     "output_type": "execute_result"
    }
   ],
   "source": [
    "feature_maps.shape"
   ]
  },
  {
   "cell_type": "markdown",
   "id": "28de44c9",
   "metadata": {},
   "source": [
    "- matplotlib colormap : https://matplotlib.org/stable/users/explain/colors/colormaps.html"
   ]
  },
  {
   "cell_type": "code",
   "execution_count": 57,
   "id": "2caa60dd",
   "metadata": {},
   "outputs": [
    {
     "data": {
      "image/png": "[encoded data removed]",
      "text/plain": [
       "<Figure size 1500x800 with 32 Axes>"
      ]
     },
     "metadata": {},
     "output_type": "display_data"
    }
   ],
   "source": [
    "fig, axs = plt.subplots(4, 8, figsize=(15, 8))\n",
    "for i in range(4):\n",
    "    for j in range(8):\n",
    "        axs[i, j].imshow(feature_maps[0,:,:, i*8 + j], cmap='viridis')\n",
    "        axs[i, j].axis('off')\n",
    "    \n",
    "plt.show()"
   ]
  },
  {
   "cell_type": "markdown",
   "id": "45bb7334",
   "metadata": {},
   "source": [
    "- 위는 첫번째 합성곱을 통과한 앵클부츠의 결과화면"
   ]
  },
  {
   "cell_type": "markdown",
   "id": "02fb6d89",
   "metadata": {},
   "source": [
    "#### 결론\n",
    "\n",
    "- 일반신경망이나 심층신경망으로 훈련했을 때 보다 정확도가 높아짐\n",
    "- 심층신경망 : 대략 88%\n",
    "- `합성곱신경망`: 대략 92%\n",
    "\n",
    "##### 머신러닝/딥러닝 프레임워크 종류\n",
    "- 사이킷 런 : 머신러닝에 특화된 프레임워크\n",
    "    - 몇몇 기능은 다른 프레임워크에 없어서 같이 사용중\n",
    "- 텐서플로/케라스 : 구글 개발 머신러닝 프레임워크\n",
    "- `파이토치` : 페이스북(메타) 개발 머신러닝 프레임워크\n",
    "- fastai : 파이토치 기반으로 된 딥러닝 프레임워크\n",
    "- JAX : 구글 개발 최첨단 연구용 딥러닝 프레임워크\n",
    "- MXNet : 아마존 개발.\n"
   ]
  }
 ],
 "metadata": {
  "kernelspec": {
   "display_name": "mlvenv",
   "language": "python",
   "name": "python3"
  },
  "language_info": {
   "codemirror_mode": {
    "name": "ipython",
    "version": 3
   },
   "file_extension": ".py",
   "mimetype": "text/x-python",
   "name": "python",
   "nbconvert_exporter": "python",
   "pygments_lexer": "ipython3",
   "version": "3.11.9"
  }
 },
 "nbformat": 4,
 "nbformat_minor": 5
}
