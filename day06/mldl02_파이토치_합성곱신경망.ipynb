{
 "cells": [
  {
   "cell_type": "markdown",
   "id": "7810a10c",
   "metadata": {},
   "source": [
    "## 합성곱 신경망\n",
    "\n",
    "### 파이토치로 패션 MNIST CNN 실습\n",
    "- 텐서플로(케라스)로 CNN을 하든, 파이토치로 CNN하든 아무 차이가 없음"
   ]
  },
  {
   "cell_type": "markdown",
   "id": "6a476a79",
   "metadata": {},
   "source": [
    "#### 데이터셋 불러오기"
   ]
  },
  {
   "cell_type": "code",
   "execution_count": 1,
   "id": "5069305d",
   "metadata": {},
   "outputs": [],
   "source": [
    "# 사용모듈 로드\n",
    "import torch\n",
    "from torchvision import datasets,transforms\n",
    "from torch.utils.data import Dataset, DataLoader"
   ]
  },
  {
   "cell_type": "code",
   "execution_count": 6,
   "id": "b133a558",
   "metadata": {},
   "outputs": [],
   "source": [
    "# 이전에는 sklearn에 있는 StandardScaler 사용\n",
    "# 정규화 및 테서 변환\n",
    "transform = transforms.Compose([\n",
    "    transforms.ToTensor(),\n",
    "    transforms.Normalize((0.5, ), (0.5, ))   # Fashion-MNIST 자주 사용하는 정규화 범위\n",
    "])\n",
    "\n",
    "# Fashion-MNIST를 Dataset으로 변경\n",
    "## keras는 C:\\Users\\Admin\\.keras\\datasets\n",
    "## PyTorch는 현재위치에 다운로드\n",
    "train_dataset = datasets.FashionMNIST(root='./data', train=True, download=True, transform=transform)\n",
    "val_dataset = datasets.FashionMNIST(root='./data', train=False, transform=transform)\n",
    "\n",
    "# Dataset을 Dataloader로 변경\n",
    "train_loader = DataLoader(train_dataset, batch_size=64, shuffle=True)\n",
    "val_loader = DataLoader(val_dataset, batch_size=64)"
   ]
  }
 ],
 "metadata": {
  "kernelspec": {
   "display_name": "mlvenv",
   "language": "python",
   "name": "python3"
  },
  "language_info": {
   "codemirror_mode": {
    "name": "ipython",
    "version": 3
   },
   "file_extension": ".py",
   "mimetype": "text/x-python",
   "name": "python",
   "nbconvert_exporter": "python",
   "pygments_lexer": "ipython3",
   "version": "3.11.9"
  }
 },
 "nbformat": 4,
 "nbformat_minor": 5
}
