{
 "cells": [
  {
   "cell_type": "markdown",
   "id": "7ab9dd0c",
   "metadata": {},
   "source": [
    "## 훈련 세트/테스트 세트\n",
    "\n",
    "- 입력(특성의 집합), 타겟 -> 전체 데이터\n",
    "- 전체 데이터 중 비율로 모델 훈련시 사용할 데이터, 훈련후 테스드를 위한 데이터로 분리\n",
    "\n",
    "- http://bit.ly/bream_smelt"
   ]
  },
  {
   "cell_type": "code",
   "execution_count": null,
   "id": "3bad7967",
   "metadata": {},
   "outputs": [],
   "source": [
    "# 원본 데이터\n",
    "fish_length = [25.4, 26.3, 26.5, 29.0, 29.0, 29.7, 29.7, 30.0, 30.0, 30.7, 31.0, 31.0, \n",
    "                31.5, 32.0, 32.0, 32.0, 33.0, 33.0, 33.5, 33.5, 34.0, 34.0, 34.5, 35.0, \n",
    "                35.0, 35.0, 35.0, 36.0, 36.0, 37.0, 38.5, 38.5, 39.5, 41.0, 41.0, 9.8, \n",
    "                10.5, 10.6, 11.0, 11.2, 11.3, 11.8, 11.8, 12.0, 12.2, 12.4, 13.0, 14.3, 15.0]\n",
    "fish_weight = [242.0, 290.0, 340.0, 363.0, 430.0, 450.0, 500.0, 390.0, 450.0, 500.0, 475.0, 500.0, \n",
    "                500.0, 340.0, 600.0, 600.0, 700.0, 700.0, 610.0, 650.0, 575.0, 685.0, 620.0, 680.0, \n",
    "                700.0, 725.0, 720.0, 714.0, 850.0, 1000.0, 920.0, 955.0, 925.0, 975.0, 950.0, 6.7, \n",
    "                7.5, 7.0, 9.7, 9.8, 8.7, 10.0, 9.9, 9.8, 12.2, 13.4, 12.2, 19.7, 19.9]"
   ]
  },
  {
   "cell_type": "code",
   "execution_count": 3,
   "id": "032cd4cf",
   "metadata": {},
   "outputs": [
    {
     "data": {
      "text/plain": [
       "49"
      ]
     },
     "execution_count": 3,
     "metadata": {},
     "output_type": "execute_result"
    }
   ],
   "source": [
    "len(fish_length)"
   ]
  },
  {
   "cell_type": "code",
   "execution_count": 4,
   "id": "8be3da89",
   "metadata": {},
   "outputs": [
    {
     "data": {
      "text/plain": [
       "49"
      ]
     },
     "execution_count": 4,
     "metadata": {},
     "output_type": "execute_result"
    }
   ],
   "source": [
    "len(fish_weight)"
   ]
  },
  {
   "cell_type": "code",
   "execution_count": null,
   "id": "7918f38d",
   "metadata": {},
   "outputs": [],
   "source": [
    "# 물고기 데이터 샘플링\n",
    "fish_data = [[l,w] for l, w in zip(fish_length, fish_weight)]"
   ]
  },
  {
   "cell_type": "code",
   "execution_count": 6,
   "id": "26ec8412",
   "metadata": {},
   "outputs": [],
   "source": [
    "fish_target = [1] * 35 + [0] * 14"
   ]
  },
  {
   "cell_type": "code",
   "execution_count": 7,
   "id": "a775d5ae",
   "metadata": {},
   "outputs": [
    {
     "data": {
      "text/plain": [
       "49"
      ]
     },
     "execution_count": 7,
     "metadata": {},
     "output_type": "execute_result"
    }
   ],
   "source": [
    "len(fish_data)"
   ]
  },
  {
   "cell_type": "code",
   "execution_count": 8,
   "id": "af80bac2",
   "metadata": {},
   "outputs": [
    {
     "data": {
      "text/plain": [
       "49"
      ]
     },
     "execution_count": 8,
     "metadata": {},
     "output_type": "execute_result"
    }
   ],
   "source": [
    "len(fish_target)"
   ]
  },
  {
   "cell_type": "markdown",
   "id": "01b904be",
   "metadata": {},
   "source": [
    "#### 훈련 세트와 테스트 세트로 분리"
   ]
  },
  {
   "cell_type": "code",
   "execution_count": 9,
   "id": "d1ec61df",
   "metadata": {},
   "outputs": [],
   "source": [
    "from sklearn.neighbors import KNeighborsClassifier"
   ]
  },
  {
   "cell_type": "code",
   "execution_count": 10,
   "id": "2ff10e71",
   "metadata": {},
   "outputs": [],
   "source": [
    "kn = KNeighborsClassifier()"
   ]
  },
  {
   "cell_type": "code",
   "execution_count": 11,
   "id": "1c3923c3",
   "metadata": {},
   "outputs": [
    {
     "data": {
      "text/plain": [
       "[25.4, 242.0]"
      ]
     },
     "execution_count": 11,
     "metadata": {},
     "output_type": "execute_result"
    }
   ],
   "source": [
    "fish_data[0]"
   ]
  },
  {
   "cell_type": "markdown",
   "id": "b1b662e3",
   "metadata": {},
   "source": [
    "- 7:3으로 훈련 세트(34개):테스트 세트(15개) 분리\n",
    "\n",
    "- 입력, 타겟\n",
    "    - 훈련_입력, 훈련_타겟\n",
    "    - 테스트_입력, 테스트_타겟"
   ]
  },
  {
   "cell_type": "code",
   "execution_count": 13,
   "id": "47f1cead",
   "metadata": {},
   "outputs": [
    {
     "name": "stdout",
     "output_type": "stream",
     "text": [
      "[[25.4, 242.0], [26.3, 290.0], [26.5, 340.0], [29.0, 363.0], [29.0, 430.0], [29.7, 450.0], [29.7, 500.0], [30.0, 390.0], [30.0, 450.0], [30.7, 500.0], [31.0, 475.0], [31.0, 500.0], [31.5, 500.0], [32.0, 340.0], [32.0, 600.0], [32.0, 600.0], [33.0, 700.0], [33.0, 700.0], [33.5, 610.0], [33.5, 650.0], [34.0, 575.0], [34.0, 685.0], [34.5, 620.0], [35.0, 680.0], [35.0, 700.0], [35.0, 725.0], [35.0, 720.0], [36.0, 714.0], [36.0, 850.0], [37.0, 1000.0], [38.5, 920.0], [38.5, 955.0], [39.5, 925.0], [41.0, 975.0]]\n",
      "34\n"
     ]
    }
   ],
   "source": [
    "# 훈련세트중 입력값\n",
    "train_input = fish_data[0:34]\n",
    "print(train_input)\n",
    "print(len(train_input))\n"
   ]
  },
  {
   "cell_type": "code",
   "execution_count": 14,
   "id": "55333b9e",
   "metadata": {},
   "outputs": [
    {
     "name": "stdout",
     "output_type": "stream",
     "text": [
      "[1, 1, 1, 1, 1, 1, 1, 1, 1, 1, 1, 1, 1, 1, 1, 1, 1, 1, 1, 1, 1, 1, 1, 1, 1, 1, 1, 1, 1, 1, 1, 1, 1, 1]\n",
      "34\n"
     ]
    }
   ],
   "source": [
    "# 훈련세트중 타겟값\n",
    "train_target = fish_target[0:34]\n",
    "print(train_target)\n",
    "print(len(train_target))"
   ]
  },
  {
   "cell_type": "code",
   "execution_count": 15,
   "id": "d8d6b79c",
   "metadata": {},
   "outputs": [
    {
     "name": "stdout",
     "output_type": "stream",
     "text": [
      "[[41.0, 950.0], [9.8, 6.7], [10.5, 7.5], [10.6, 7.0], [11.0, 9.7], [11.2, 9.8], [11.3, 8.7], [11.8, 10.0], [11.8, 9.9], [12.0, 9.8], [12.2, 12.2], [12.4, 13.4], [13.0, 12.2], [14.3, 19.7], [15.0, 19.9]]\n",
      "15\n"
     ]
    }
   ],
   "source": [
    "# 테스트세트 중 입력값\n",
    "test_input = fish_data[34:]\n",
    "print(test_input)\n",
    "print(len(test_input))"
   ]
  },
  {
   "cell_type": "code",
   "execution_count": 16,
   "id": "cfb6ea55",
   "metadata": {},
   "outputs": [
    {
     "name": "stdout",
     "output_type": "stream",
     "text": [
      "[1, 0, 0, 0, 0, 0, 0, 0, 0, 0, 0, 0, 0, 0, 0]\n",
      "15\n"
     ]
    }
   ],
   "source": [
    "# 테스트세트 중 타겟값\n",
    "test_target = fish_target[34:]\n",
    "print(test_target)\n",
    "print(len(test_target))"
   ]
  },
  {
   "cell_type": "markdown",
   "id": "4b0214a5",
   "metadata": {},
   "source": [
    "- 훈련과 테스트 수행"
   ]
  },
  {
   "cell_type": "code",
   "execution_count": 17,
   "id": "363751e2",
   "metadata": {},
   "outputs": [
    {
     "data": {
      "text/plain": [
       "0.06666666666666667"
      ]
     },
     "execution_count": 17,
     "metadata": {},
     "output_type": "execute_result"
    }
   ],
   "source": [
    "kn.fit(train_input, train_target)\n",
    "kn.score(test_input, test_target)"
   ]
  },
  {
   "cell_type": "markdown",
   "id": "caba4df1",
   "metadata": {},
   "source": [
    "- 훈련모델의 정확도가 7% 라는 얘기"
   ]
  },
  {
   "cell_type": "markdown",
   "id": "746473e8",
   "metadata": {},
   "source": [
    "#### 넘파이"
   ]
  },
  {
   "cell_type": "code",
   "execution_count": 18,
   "id": "1cc00156",
   "metadata": {},
   "outputs": [],
   "source": [
    "import numpy as np"
   ]
  },
  {
   "cell_type": "code",
   "execution_count": 19,
   "id": "57ffc3b9",
   "metadata": {},
   "outputs": [
    {
     "data": {
      "text/plain": [
       "[1, 3, 5, 7, 9]"
      ]
     },
     "execution_count": 19,
     "metadata": {},
     "output_type": "execute_result"
    }
   ],
   "source": [
    "lst = [1, 3, 5, 7, 9]\n",
    "lst"
   ]
  },
  {
   "cell_type": "code",
   "execution_count": 24,
   "id": "6abc277a",
   "metadata": {},
   "outputs": [
    {
     "name": "stdout",
     "output_type": "stream",
     "text": [
      "(5,)\n"
     ]
    }
   ],
   "source": [
    "np_lst = np.array(lst)\n",
    "np_lst\n",
    "print(np_lst.shape)"
   ]
  },
  {
   "cell_type": "code",
   "execution_count": 23,
   "id": "a4c72257",
   "metadata": {},
   "outputs": [
    {
     "name": "stdout",
     "output_type": "stream",
     "text": [
      "[[25.4, 242.0], [26.3, 290.0], [26.5, 340.0], [29.0, 363.0], [29.0, 430.0], [29.7, 450.0], [29.7, 500.0], [30.0, 390.0], [30.0, 450.0], [30.7, 500.0], [31.0, 475.0], [31.0, 500.0], [31.5, 500.0], [32.0, 340.0], [32.0, 600.0], [32.0, 600.0], [33.0, 700.0], [33.0, 700.0], [33.5, 610.0], [33.5, 650.0], [34.0, 575.0], [34.0, 685.0], [34.5, 620.0], [35.0, 680.0], [35.0, 700.0], [35.0, 725.0], [35.0, 720.0], [36.0, 714.0], [36.0, 850.0], [37.0, 1000.0], [38.5, 920.0], [38.5, 955.0], [39.5, 925.0], [41.0, 975.0], [41.0, 950.0], [9.8, 6.7], [10.5, 7.5], [10.6, 7.0], [11.0, 9.7], [11.2, 9.8], [11.3, 8.7], [11.8, 10.0], [11.8, 9.9], [12.0, 9.8], [12.2, 12.2], [12.4, 13.4], [13.0, 12.2], [14.3, 19.7], [15.0, 19.9]]\n"
     ]
    }
   ],
   "source": [
    "print(fish_data)"
   ]
  },
  {
   "cell_type": "code",
   "execution_count": null,
   "id": "ee613a45",
   "metadata": {},
   "outputs": [
    {
     "data": {
      "text/plain": [
       "(49, 2)"
      ]
     },
     "execution_count": 22,
     "metadata": {},
     "output_type": "execute_result"
    }
   ],
   "source": [
    "input_arr = np.array(fish_data)\n",
    "input_arr.shapeb        # 2차원 배열"
   ]
  },
  {
   "cell_type": "code",
   "execution_count": null,
   "id": "9afdabb1",
   "metadata": {},
   "outputs": [
    {
     "data": {
      "text/plain": [
       "(49,)"
      ]
     },
     "execution_count": 25,
     "metadata": {},
     "output_type": "execute_result"
    }
   ],
   "source": [
    "target_arr = np.array(fish_target)\n",
    "target_arr.shape        # 1차원 배열"
   ]
  }
 ],
 "metadata": {
  "kernelspec": {
   "display_name": "mlvenv",
   "language": "python",
   "name": "python3"
  },
  "language_info": {
   "codemirror_mode": {
    "name": "ipython",
    "version": 3
   },
   "file_extension": ".py",
   "mimetype": "text/x-python",
   "name": "python",
   "nbconvert_exporter": "python",
   "pygments_lexer": "ipython3",
   "version": "3.11.9"
  }
 },
 "nbformat": 4,
 "nbformat_minor": 5
}
